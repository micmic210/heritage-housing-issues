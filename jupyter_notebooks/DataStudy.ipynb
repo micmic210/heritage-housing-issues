{
  "cells": [
    {
      "cell_type": "markdown",
      "metadata": {
        "id": "0aStgWSO0E0E"
      },
      "source": [
        "# **Data Study Notebook**"
      ]
    },
    {
      "cell_type": "markdown",
      "metadata": {
        "id": "1eLEkw5O0ECa"
      },
      "source": [
        "## Objectives\n",
        "\n",
        "- Answer Business Requirement 1:\n",
        "The client is interested in discovering how house attributes correlate with the sale price.\n",
        "- Generate correlation & visualization code for the Streamlit dashboard.\n",
        "\n",
        "\n",
        "## Inputs\n",
        "\n",
        "* outputs/datasets/collection/HousePrices.csv\n",
        "\n",
        "## Outputs\n",
        "\n",
        "* Generate code that answers business requirement 1 and can be used to build the Streamlit App.\n",
        "* Creating plots to see correlation for the selected variables.\n"
      ]
    },
    {
      "cell_type": "markdown",
      "metadata": {
        "id": "9uWZXH9LwoQg"
      },
      "source": [
        "---"
      ]
    },
    {
      "cell_type": "markdown",
      "metadata": {},
      "source": [
        "## Change working directory"
      ]
    },
    {
      "cell_type": "code",
      "execution_count": null,
      "metadata": {
        "id": "wZfF_j-Bz3i4",
        "outputId": "66943449-1436-4c3d-85c7-b85f9f78349b"
      },
      "outputs": [],
      "source": [
        "import os\n",
        "current_dir = os.getcwd()\n",
        "current_dir"
      ]
    },
    {
      "cell_type": "markdown",
      "metadata": {
        "id": "9MWW8E7lz3i7"
      },
      "source": [
        "Change the working directory"
      ]
    },
    {
      "cell_type": "code",
      "execution_count": null,
      "metadata": {
        "id": "TwHsQRWjz3i9",
        "outputId": "86849db3-cd2f-4cc5-ebb8-2d0caafa1a2c"
      },
      "outputs": [],
      "source": [
        "os.chdir(os.path.dirname(current_dir))\n",
        "print(\"You set a new current directory\")"
      ]
    },
    {
      "cell_type": "markdown",
      "metadata": {
        "id": "M_xPk_Ijz3i-"
      },
      "source": [
        "Confirm the new current directory"
      ]
    },
    {
      "cell_type": "code",
      "execution_count": null,
      "metadata": {
        "id": "vz3S-_kjz3jA",
        "outputId": "00b79ae4-75d0-4a96-d193-ac9ef9847ea2"
      },
      "outputs": [],
      "source": [
        "current_dir = os.getcwd()\n",
        "current_dir"
      ]
    },
    {
      "cell_type": "markdown",
      "metadata": {
        "id": "ZY3l0-AxO93d"
      },
      "source": [
        "---"
      ]
    },
    {
      "cell_type": "markdown",
      "metadata": {
        "id": "uFQo3ycuO-v6"
      },
      "source": [
        "## Load Cleaned Dataset"
      ]
    },
    {
      "cell_type": "code",
      "execution_count": null,
      "metadata": {},
      "outputs": [],
      "source": [
        "import pandas as pd\n",
        "\n",
        "df = pd.read_csv(\"outputs/datasets/cleaned/HousePricesCleaned.csv\")\n",
        "df.head()"
      ]
    },
    {
      "cell_type": "markdown",
      "metadata": {},
      "source": [
        "## Data Exploration"
      ]
    },
    {
      "cell_type": "code",
      "execution_count": null,
      "metadata": {},
      "outputs": [],
      "source": [
        "from ydata_profiling import ProfileReport\n",
        "profile = ProfileReport(df, minimal=True)\n",
        "profile.to_notebook_iframe()"
      ]
    },
    {
      "cell_type": "markdown",
      "metadata": {},
      "source": [
        "Create directory to save plots"
      ]
    },
    {
      "cell_type": "code",
      "execution_count": null,
      "metadata": {},
      "outputs": [],
      "source": [
        "import os\n",
        "os.makedirs(\"docs/plots\", exist_ok=True)"
      ]
    },
    {
      "cell_type": "markdown",
      "metadata": {},
      "source": [
        "## Correlation and PPS Analysis"
      ]
    },
    {
      "cell_type": "code",
      "execution_count": null,
      "metadata": {},
      "outputs": [],
      "source": [
        "%matplotlib inline\n",
        "\n",
        "\n",
        "import numpy as np\n",
        "import seaborn as sns\n",
        "import matplotlib.pyplot as plt\n",
        "import ppscore as pps\n",
        "import warnings\n",
        "warnings.simplefilter(action='ignore', category=FutureWarning)\n",
        "\n",
        "sns.set_theme(style=\"darkgrid\")\n",
        "\n",
        "# Heatmap: Pearson & Spearman\n",
        "def heatmap_corr(df, threshold, figsize=(20,12), font_annot=9):\n",
        "    if len(df.columns) > 1:\n",
        "        mask = np.zeros_like(df, dtype=bool)\n",
        "        mask[np.triu_indices_from(mask)] = True\n",
        "        mask[abs(df) < threshold] = True\n",
        "\n",
        "        fig, ax = plt.subplots(figsize=figsize)\n",
        "        sns.heatmap(df, annot=True, mask=mask, cmap=\"viridis\",\n",
        "                    annot_kws={\"size\": font_annot}, ax=ax, linewidth=0.5)\n",
        "        ax.set_yticklabels(df.columns, rotation=0)\n",
        "        plt.ylim(len(df.columns), 0)\n",
        "        plt.show()\n",
        "\n",
        "# Heatmap: Power Predictive Score (PPS)\n",
        "def heatmap_pps(df, threshold, figsize=(20,12), font_annot=9):\n",
        "    if len(df.columns) > 1:\n",
        "        mask = np.zeros_like(df, dtype=bool)\n",
        "        mask[abs(df) < threshold] = True\n",
        "        fig, ax = plt.subplots(figsize=figsize)\n",
        "        sns.heatmap(df, annot=True, mask=mask, cmap=\"rocket_r\",\n",
        "                    annot_kws={\"size\": font_annot}, linewidth=0.05, linecolor=\"gray\")\n",
        "        plt.ylim(len(df.columns), 0)\n",
        "        plt.show()\n",
        "\n",
        "# Calculate Correlations\n",
        "def CalculateCorrAndPPS(df):\n",
        "    pearson = df.corr(method=\"pearson\")\n",
        "    spearman = df.corr(method=\"spearman\")\n",
        "    pps_matrix_raw = pps.matrix(df)\n",
        "    pps_matrix = pps_matrix_raw[[\"x\", \"y\", \"ppscore\"]].pivot(columns=\"x\", index=\"y\", values=\"ppscore\")\n",
        "\n",
        "    print(\"🔍 PPS Score Stats:\")\n",
        "    print(pps_matrix_raw.query(\"ppscore < 1\")[[\"ppscore\"]].describe().T.round(3))\n",
        "\n",
        "    return pearson, spearman, pps_matrix\n",
        "\n",
        "# Display Heatmaps\n",
        "def DisplayCorrAndPPS(pearson, spearman, pps_matrix, corr_threshold=0.3, pps_threshold=0.2):\n",
        "    print(\"*** Spearman Correlation ***\")\n",
        "    heatmap_corr(spearman, corr_threshold)\n",
        "\n",
        "    print(\"*** Pearson Correlation ***\")\n",
        "    heatmap_corr(pearson, corr_threshold)\n",
        "\n",
        "    print(\"*** Power Predictive Score (PPS) ***\")\n",
        "    heatmap_pps(pps_matrix, pps_threshold)\n"
      ]
    },
    {
      "cell_type": "markdown",
      "metadata": {},
      "source": [
        "## Run Analysis"
      ]
    },
    {
      "cell_type": "code",
      "execution_count": null,
      "metadata": {},
      "outputs": [],
      "source": [
        "df_corr_pearson, df_corr_spearman, pps_matrix = CalculateCorrAndPPS(df)\n",
        "DisplayCorrAndPPS(df_corr_pearson, df_corr_spearman, pps_matrix, 0.3, 0.2)"
      ]
    },
    {
      "cell_type": "markdown",
      "metadata": {},
      "source": [
        "## Select Top Variables for Visualization"
      ]
    },
    {
      "cell_type": "code",
      "execution_count": null,
      "metadata": {},
      "outputs": [],
      "source": [
        "# Based on both Pearson & Spearman Top 10\n",
        "corr_p = df.corr(method=\"pearson\")[\"SalePrice\"].abs().sort_values(ascending=False)[1:11]\n",
        "corr_s = df.corr(method=\"spearman\")[\"SalePrice\"].abs().sort_values(ascending=False)[1:11]\n",
        "\n",
        "vars_to_study = list(set(corr_p.index.to_list() + corr_s.index.to_list()))\n",
        "print(f\"Variables to study: {vars_to_study}\")\n"
      ]
    },
    {
      "cell_type": "markdown",
      "metadata": {},
      "source": [
        "## Create EDA Dataset"
      ]
    },
    {
      "cell_type": "code",
      "execution_count": null,
      "metadata": {},
      "outputs": [],
      "source": [
        "df_eda = df[vars_to_study + [\"SalePrice\"]]\n",
        "df_eda.head()"
      ]
    },
    {
      "cell_type": "markdown",
      "metadata": {},
      "source": [
        "## Plotting Function Setup"
      ]
    },
    {
      "cell_type": "code",
      "execution_count": null,
      "metadata": {},
      "outputs": [],
      "source": [
        "def plot_hist(df, target=\"SalePrice\"):\n",
        "    plt.figure(figsize=(14,6))\n",
        "    sns.histplot(data=df, x=target, kde=True)\n",
        "    plt.title(f\"Distribution of {target}\", fontsize=18)\n",
        "    plt.savefig(f\"docs/plots/hist_plot_{target}.png\", bbox_inches=\"tight\")\n",
        "    plt.show()\n",
        "\n",
        "def plot_lm(df, col, target=\"SalePrice\"):\n",
        "    sns.lmplot(data=df, x=col, y=target, ci=None, line_kws={\"color\":\"orange\"})\n",
        "    plt.title(f\"{col} vs {target}\", fontsize=16)\n",
        "    plt.savefig(f\"docs/plots/lm_plot_price_by_{col}.png\", bbox_inches=\"tight\")\n",
        "    plt.show()\n",
        "\n",
        "def plot_line(df, col, target=\"SalePrice\"):\n",
        "    plt.figure(figsize=(14, 6))\n",
        "    sns.lineplot(data=df, x=col, y=target)\n",
        "    plt.title(f\"{col} vs {target}\", fontsize=16)\n",
        "    plt.savefig(f\"docs/plots/line_plot_price_by_{col}.png\", bbox_inches=\"tight\")\n",
        "    plt.show()\n",
        "\n",
        "def plot_box(df, col, target=\"SalePrice\"):\n",
        "    plt.figure(figsize=(10,6))\n",
        "    sns.boxplot(data=df, x=col, y=target)\n",
        "    plt.title(f\"{col} vs {target}\", fontsize=16)\n",
        "    plt.savefig(f\"docs/plots/box_plot_price_by_{col}.png\", bbox_inches=\"tight\")\n",
        "    plt.show()\n"
      ]
    },
    {
      "cell_type": "markdown",
      "metadata": {},
      "source": [
        "## Generate Plots"
      ]
    },
    {
      "cell_type": "code",
      "execution_count": null,
      "metadata": {},
      "outputs": [],
      "source": [
        "time_vars = [\"YearBuilt\", \"YearRemodAdd\", \"GarageYrBlt\"]\n",
        "for col in vars_to_study:\n",
        "    if df_eda[col].nunique() <= 10:\n",
        "        plot_box(df_eda, col)\n",
        "    elif col in time_vars:\n",
        "        plot_line(df_eda, col)\n",
        "    else:\n",
        "        plot_lm(df_eda, col)\n",
        "\n",
        "plot_hist(df_eda, \"SalePrice\")\n"
      ]
    },
    {
      "cell_type": "markdown",
      "metadata": {},
      "source": [
        "---"
      ]
    },
    {
      "cell_type": "markdown",
      "metadata": {},
      "source": [
        "## Summary and the next steps"
      ]
    },
    {
      "cell_type": "markdown",
      "metadata": {},
      "source": [
        "**Summary**\n",
        "\n",
        "The correlation analysis confirms:\n",
        "- 'OverallQual', 'GrLivArea', and 'YearBuilt' show strong correlation with 'SalePrice'.\n",
        "- Variables related to size (e.g., 1stFlrSF, TotalBsmtSF) and condition (e.g., OverallQual) are most predictive.\n",
        "- From 1980 onwards, newer homes see significant price increases.\n",
        "\n",
        "**Next Step**:\n",
        "Proceed to Feature Engineering notebook.\n",
        "\n"
      ]
    }
  ],
  "metadata": {
    "accelerator": "GPU",
    "colab": {
      "name": "Data Practitioner Jupyter Notebook.ipynb",
      "provenance": [],
      "toc_visible": true
    },
    "kernelspec": {
      "display_name": "3.12.1",
      "language": "python",
      "name": "python3"
    },
    "language_info": {
      "codemirror_mode": {
        "name": "ipython",
        "version": 3
      },
      "file_extension": ".py",
      "mimetype": "text/x-python",
      "name": "python",
      "nbconvert_exporter": "python",
      "pygments_lexer": "ipython3",
      "version": "3.12.1"
    },
    "orig_nbformat": 2
  },
  "nbformat": 4,
  "nbformat_minor": 2
}
