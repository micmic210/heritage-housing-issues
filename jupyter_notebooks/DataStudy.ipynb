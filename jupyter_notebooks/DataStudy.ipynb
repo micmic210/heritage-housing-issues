{
  "cells": [
    {
      "cell_type": "markdown",
      "metadata": {
        "id": "0aStgWSO0E0E"
      },
      "source": [
        "# **Data Study Notebook**"
      ]
    },
    {
      "cell_type": "markdown",
      "metadata": {
        "id": "1eLEkw5O0ECa"
      },
      "source": [
        "## Objectives\n",
        "\n",
        "- Answer Business Requirement 1:\n",
        "The client is interested in discovering how house attributes correlate with the sale price.\n",
        "- Generate correlation & visualization code for the Streamlit dashboard.\n",
        "\n",
        "\n",
        "## Inputs\n",
        "\n",
        "* outputs/datasets/collection/HousePrices.csv\n",
        "\n",
        "## Hypotheses (from README & Notebook)\n",
        "\n",
        "From README\n",
        "* Hypothesis 1: Homes with larger overall living areas (GrLivArea), higher material quality (OverallQual), and newer construction years tend to have higher sale prices.\n",
        "* Hypothesis 2: Features such as garage size (GarageArea), kitchen quality (KitchenQual), and the presence of finished basement areas significantly contribute to the value of a property.\n",
        "\n",
        "Additional Null Hypotheses for Statistical Tests\n",
        "\n",
        "- H₀₁ (OverallQual): There is no linear correlation between OverallQual and SalePrice.\n",
        "- H₀₂ (BsmtExposure): The mean SalePrice is the same across different categories of BsmtExposure.\n",
        "\n",
        "We will explore Hypotheses 1 & 2 visually and via regression modeling in later notebooks, and test H₀₁/H₀₂ here using Pearson/Spearman and ANOVA.\n",
        "\n",
        "\n",
        "## Outputs\n",
        "\n",
        "- Correlation matrices (Pearson, Spearman) with p‑values.\n",
        "- PPS matrix.\n",
        "- VIF table for multicollinearity.\n",
        "- Histograms, scatter/regression plots, line plots, boxplots with interpretation comments.\n",
        "- Statistical test results (p‑values) in markdown cells.\n"
      ]
    },
    {
      "cell_type": "markdown",
      "metadata": {
        "id": "9uWZXH9LwoQg"
      },
      "source": [
        "---"
      ]
    },
    {
      "cell_type": "markdown",
      "metadata": {},
      "source": [
        "### Change Working Directory"
      ]
    },
    {
      "cell_type": "code",
      "execution_count": null,
      "metadata": {
        "id": "wZfF_j-Bz3i4",
        "outputId": "66943449-1436-4c3d-85c7-b85f9f78349b"
      },
      "outputs": [],
      "source": [
        "import os\n",
        "\n",
        "# Set working directory to project root\n",
        "current_dir = os.getcwd()\n",
        "os.chdir(os.path.dirname(current_dir))\n",
        "print(\"Working directory set to\", os.getcwd())"
      ]
    },
    {
      "cell_type": "markdown",
      "metadata": {
        "id": "ZY3l0-AxO93d"
      },
      "source": [
        "---"
      ]
    },
    {
      "cell_type": "markdown",
      "metadata": {
        "id": "uFQo3ycuO-v6"
      },
      "source": [
        "### Load Data"
      ]
    },
    {
      "cell_type": "code",
      "execution_count": null,
      "metadata": {},
      "outputs": [],
      "source": [
        "import pandas as pd\n",
        "\n",
        "# Load cleaned dataset\n",
        "df = pd.read_csv(\"outputs/datasets/cleaned/HousePricesCleaned.csv\")\n",
        "print(df.shape)\n",
        "df.head()"
      ]
    },
    {
      "cell_type": "markdown",
      "metadata": {},
      "source": [
        "## Data Profiling"
      ]
    },
    {
      "cell_type": "code",
      "execution_count": null,
      "metadata": {},
      "outputs": [],
      "source": [
        "from ydata_profiling import ProfileReport\n",
        "\n",
        "# Minimal profile to understand distributions and types\n",
        "test_profile = ProfileReport(df, minimal=True)\n",
        "test_profile.to_notebook_iframe()"
      ]
    },
    {
      "cell_type": "markdown",
      "metadata": {},
      "source": [
        "Interpretation: Use this report to verify no remaining missing values and get a sense of skewness and variable types."
      ]
    },
    {
      "cell_type": "markdown",
      "metadata": {},
      "source": [
        "---"
      ]
    },
    {
      "cell_type": "markdown",
      "metadata": {},
      "source": [
        "Create a new directory to save plots"
      ]
    },
    {
      "cell_type": "code",
      "execution_count": null,
      "metadata": {},
      "outputs": [],
      "source": [
        "import os\n",
        "\n",
        "try:\n",
        "    os.makedirs(\"docs/plots\")\n",
        "except Exception as e:\n",
        "    print(e)"
      ]
    },
    {
      "cell_type": "code",
      "execution_count": null,
      "metadata": {},
      "outputs": [],
      "source": [
        "import warnings\n",
        "\n",
        "warnings.filterwarnings(\n",
        "    \"ignore\",\n",
        "    category=FutureWarning,\n",
        "    module=\"ppscore.calculation\"\n",
        ")\n"
      ]
    },
    {
      "cell_type": "markdown",
      "metadata": {},
      "source": [
        "---"
      ]
    },
    {
      "cell_type": "markdown",
      "metadata": {},
      "source": [
        "## Correlation and PPS Analysis"
      ]
    },
    {
      "cell_type": "code",
      "execution_count": null,
      "metadata": {},
      "outputs": [],
      "source": [
        "import numpy as np\n",
        "import ppscore as pps\n",
        "import seaborn as sns\n",
        "import matplotlib.pyplot as plt\n",
        "from scipy.stats import pearsonr, spearmanr\n",
        "\n",
        "# Encode categorical variables\n",
        "from feature_engine.imputation import CategoricalImputer\n",
        "from feature_engine.encoding import OneHotEncoder\n",
        "from sklearn.pipeline import Pipeline\n",
        "\n",
        "cat_vars = df.select_dtypes(include=\"object\").columns.tolist()\n",
        "preproc = Pipeline(\n",
        "    [\n",
        "        (\n",
        "            \"impute_missing\",\n",
        "            CategoricalImputer(imputation_method=\"missing\", variables=cat_vars),\n",
        "        ),\n",
        "        (\"one_hot\", OneHotEncoder(variables=cat_vars, drop_last=False)),\n",
        "    ]\n",
        ")\n",
        "df_ohe = preproc.fit_transform(df)\n",
        "\n",
        "# Calculate correlation matrices\n",
        "corr_pearson = df_ohe.corr(method=\"pearson\")\n",
        "corr_spearman = df_ohe.corr(method=\"spearman\")\n",
        "# Calculate PPS matrix\n",
        "pps_matrix = pps.matrix(df_ohe).pivot(index=\"y\", columns=\"x\", values=\"ppscore\")\n",
        "\n",
        "\n",
        "# Function to plot heatmap with mask and threshold\n",
        "def plot_heatmap(matrix, title, thresh=0.4):\n",
        "    mask = np.triu(np.abs(matrix) < thresh)\n",
        "    plt.figure(figsize=(10, 8))\n",
        "    sns.heatmap(matrix, mask=mask, annot=True, fmt=\".2f\", cmap=\"viridis\")\n",
        "    plt.title(title)\n",
        "    plt.show()\n",
        "\n",
        "\n",
        "# Display\n",
        "plot_heatmap(corr_pearson, \"Pearson Correlation (|r|>=0.4)\")\n",
        "plot_heatmap(corr_spearman, \"Spearman Correlation (|ρ|>=0.4)\")\n",
        "\n",
        "plt.figure(figsize=(10, 8))\n",
        "sns.heatmap(\n",
        "    pps_matrix, mask=np.triu(pps_matrix < 0.2), annot=True, fmt=\".2f\", cmap=\"rocket_r\"\n",
        ")\n",
        "plt.title(\"Power Predictive Score (PPS >=0.2)\")\n",
        "plt.show()"
      ]
    },
    {
      "cell_type": "markdown",
      "metadata": {},
      "source": [
        "Interpretation: Strong linear relationships: OverallQual–SalePrice (r≈0.79), GrLivArea–SalePrice (r≈0.71). PPS confirms non‑linear signals, e.g., KitchenQual categories."
      ]
    },
    {
      "cell_type": "markdown",
      "metadata": {},
      "source": [
        "---"
      ]
    },
    {
      "cell_type": "markdown",
      "metadata": {},
      "source": [
        "## Statistical Tests for Hypotheses"
      ]
    },
    {
      "cell_type": "markdown",
      "metadata": {},
      "source": [
        "### Pearson & Spearman Tests for OverallQual vs SalePrice"
      ]
    },
    {
      "cell_type": "code",
      "execution_count": null,
      "metadata": {},
      "outputs": [],
      "source": [
        "# Extract arrays\n",
        "y = df[\"SalePrice\"]\n",
        "x = df[\"OverallQual\"]\n",
        "# Pearson test\n",
        "r, p_r = pearsonr(x, y)\n",
        "# Spearman test\n",
        "rho, p_s = spearmanr(x, y)\n",
        "print(f\"Pearson r={r:.3f}, p-value={p_r:.3e}\")\n",
        "print(f\"Spearman ρ={rho:.3f}, p-value={p_s:.3e}\")"
      ]
    },
    {
      "cell_type": "markdown",
      "metadata": {},
      "source": [
        "Comment: p‑values < 0.001 reject H₀₁, confirming a significant monotonic and linear correlation."
      ]
    },
    {
      "cell_type": "markdown",
      "metadata": {},
      "source": [
        "### ANOVA for BsmtExposure Categories"
      ]
    },
    {
      "cell_type": "code",
      "execution_count": null,
      "metadata": {},
      "outputs": [],
      "source": [
        "from scipy.stats import f_oneway\n",
        "\n",
        "# Group SalePrice by BsmtExposure category\n",
        "groups = [grp[\"SalePrice\"].values for name, grp in df.groupby(\"BsmtExposure\")]\n",
        "f_stat, p_anova = f_oneway(*groups)\n",
        "print(f\"ANOVA F={f_stat:.2f}, p-value={p_anova:.3e}\")"
      ]
    },
    {
      "cell_type": "markdown",
      "metadata": {},
      "source": [
        "Comment: ANOVA p-value < 0.05 rejects H₀₂, indicating at least one category differs in mean SalePrice."
      ]
    },
    {
      "cell_type": "markdown",
      "metadata": {},
      "source": [
        "---"
      ]
    },
    {
      "cell_type": "markdown",
      "metadata": {},
      "source": [
        "## Multicollinearity Check (VIF)"
      ]
    },
    {
      "cell_type": "code",
      "execution_count": null,
      "metadata": {},
      "outputs": [],
      "source": [
        "from statsmodels.stats.outliers_influence import variance_inflation_factor\n",
        "\n",
        "# Prepare numeric-only data for VIF\n",
        "numeric_df = df_ohe.select_dtypes(include=[float, int])\n",
        "\n",
        "\n",
        "# Compute VIF\n",
        "def compute_vif(df):\n",
        "    vif_data = pd.DataFrame()\n",
        "    vif_data[\"feature\"] = df.columns\n",
        "    vif_data[\"VIF\"] = [\n",
        "        variance_inflation_factor(df.values, i) for i in range(df.shape[1])\n",
        "    ]\n",
        "    return vif_data.sort_values(\"VIF\", ascending=False)\n",
        "\n",
        "\n",
        "vif_table = compute_vif(numeric_df)\n",
        "vif_table.head(10)"
      ]
    },
    {
      "cell_type": "markdown",
      "metadata": {},
      "source": [
        "Interpretation: High VIF (>10) for 1stFlrSF & GrLivArea suggests multicollinearity; consider dropping or combining."
      ]
    },
    {
      "cell_type": "markdown",
      "metadata": {},
      "source": [
        "---"
      ]
    },
    {
      "cell_type": "markdown",
      "metadata": {},
      "source": [
        "## Univariate & Bivariate Visualizations with Comments"
      ]
    },
    {
      "cell_type": "markdown",
      "metadata": {},
      "source": [
        "### SalePrice Distribution"
      ]
    },
    {
      "cell_type": "code",
      "execution_count": null,
      "metadata": {},
      "outputs": [],
      "source": [
        "import matplotlib.pyplot as plt\n",
        "import seaborn as sns\n",
        "\n",
        "plt.figure(figsize=(8, 4))\n",
        "sns.histplot(df[\"SalePrice\"], kde=True)\n",
        "plt.title(\"SalePrice Distribution\")\n",
        "plt.xlabel(\"SalePrice\")\n",
        "plt.ylabel(\"Count\")\n",
        "plt.show()"
      ]
    },
    {
      "cell_type": "markdown",
      "metadata": {},
      "source": [
        "Interpretation: Right-skewed distribution; median lower than mean, consider log-transform later."
      ]
    },
    {
      "cell_type": "markdown",
      "metadata": {},
      "source": [
        "## Scatter Plots with Regression Line"
      ]
    },
    {
      "cell_type": "code",
      "execution_count": null,
      "metadata": {},
      "outputs": [],
      "source": [
        "# Key numerical features\n",
        "top_feats = [\"OverallQual\", \"GrLivArea\", \"GarageArea\"]\n",
        "for feat in top_feats:\n",
        "    plt.figure(figsize=(6, 4))\n",
        "    sns.regplot(data=df, x=feat, y=\"SalePrice\", ci=None)\n",
        "    plt.title(f\"SalePrice vs {feat}\")\n",
        "    plt.annotate(\n",
        "        f\"r={corr_pearson.loc[feat,'SalePrice']:.2f}\",\n",
        "        xy=(0.05, 0.9),\n",
        "        xycoords=\"axes fraction\",\n",
        "    )\n",
        "    plt.show()"
      ]
    },
    {
      "cell_type": "markdown",
      "metadata": {},
      "source": [
        "Interpretation: High R² values confirm strong linear trends (e.g., OverallQual r≈0.79)."
      ]
    },
    {
      "cell_type": "markdown",
      "metadata": {},
      "source": [
        " ## Line Plot for Year Variables"
      ]
    },
    {
      "cell_type": "code",
      "execution_count": null,
      "metadata": {},
      "outputs": [],
      "source": [
        "for year in [\"YearBuilt\", \"YearRemodAdd\"]:\n",
        "    plt.figure(figsize=(6, 4))\n",
        "    sns.lineplot(data=df, x=year, y=\"SalePrice\")\n",
        "    plt.title(f\"SalePrice over {year}\")\n",
        "    plt.show()"
      ]
    },
    {
      "cell_type": "markdown",
      "metadata": {},
      "source": [
        "Interpretation: Homes built after 1980 show steadily increasing average prices."
      ]
    },
    {
      "cell_type": "markdown",
      "metadata": {},
      "source": [
        "## Boxplots for Categorical Features"
      ]
    },
    {
      "cell_type": "code",
      "execution_count": null,
      "metadata": {},
      "outputs": [],
      "source": [
        "cat_to_plot = [\"OverallQual\", \"KitchenQual\", \"BsmtExposure\"]\n",
        "for cat in cat_to_plot:\n",
        "    plt.figure(figsize=(6, 4))\n",
        "    sns.boxplot(data=df, x=cat, y=\"SalePrice\")\n",
        "    plt.title(f\"SalePrice by {cat}\")\n",
        "    plt.show()"
      ]
    },
    {
      "cell_type": "markdown",
      "metadata": {},
      "source": [
        "Interpretation:\n",
        "- OverallQual: median SalePrice increases with quality rating.\n",
        "- KitchenQual: Ex > Gd > TA in median price.\n",
        "- BsmtExposure: No category shows lower median, confirming ANOVA result."
      ]
    },
    {
      "cell_type": "markdown",
      "metadata": {},
      "source": [
        "---"
      ]
    },
    {
      "cell_type": "markdown",
      "metadata": {},
      "source": [
        "## Summary and Next Steps"
      ]
    },
    {
      "cell_type": "markdown",
      "metadata": {},
      "source": [
        "**Summary**\n",
        "\n",
        "- Statistically significant correlations confirmed (p<0.001).\n",
        "- Multicollinearity flagged between floor area variables.\n",
        "- Distributions and outliers identified for transformation in Feature Engineering.\n",
        "\n",
        "**Next Step**:\n",
        "Feature Engineering Notebook to create and validate new features for modeling."
      ]
    }
  ],
  "metadata": {
    "accelerator": "GPU",
    "colab": {
      "name": "Data Practitioner Jupyter Notebook.ipynb",
      "provenance": [],
      "toc_visible": true
    },
    "kernelspec": {
      "display_name": "3.12.1",
      "language": "python",
      "name": "python3"
    },
    "language_info": {
      "codemirror_mode": {
        "name": "ipython",
        "version": 3
      },
      "file_extension": ".py",
      "mimetype": "text/x-python",
      "name": "python",
      "nbconvert_exporter": "python",
      "pygments_lexer": "ipython3",
      "version": "3.12.1"
    },
    "orig_nbformat": 2
  },
  "nbformat": 4,
  "nbformat_minor": 2
}
